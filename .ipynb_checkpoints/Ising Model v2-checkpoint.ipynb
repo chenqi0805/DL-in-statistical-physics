{
 "cells": [
  {
   "cell_type": "code",
   "execution_count": null,
   "metadata": {
    "collapsed": false
   },
   "outputs": [],
   "source": [
    "import pandas as pd\n",
    "import numpy as np\n",
    "import keras\n",
    "from keras.models import Sequential\n",
    "from keras.layers import Dense\n",
    "from keras.optimizers import SGD\n",
    "from keras import regularizers\n",
    "import matplotlib.pyplot as plt\n",
    "%matplotlib inline"
   ]
  },
  {
   "cell_type": "code",
   "execution_count": null,
   "metadata": {
    "collapsed": true
   },
   "outputs": [],
   "source": [
    "def read_data(L):\n",
    "    \"\"\"\n",
    "    :type L: int(system size)\n",
    "    :rtype train,test: pd.dataframe(with phases labeled)\n",
    "    \"\"\"\n",
    "    train_filename='configuration'+str(L)+'.csv'\n",
    "    test_filename='test'+str(L)+'.csv'\n",
    "    columns=['temperature']+['Spin'+str(i) for i in xrange(1,L*L+1)]\n",
    "    train=pd.read_csv('Ising_data/'+'L'+str(L)+'/'+train_filename,names=columns)\n",
    "    test=pd.read_csv('Ising_data/'+'L'+str(L)+'/'+test_filename,names=columns)\n",
    "    \n",
    "    # decide critical temperature\n",
    "    filename='Cv'+str(L)+'.csv'\n",
    "    specific_heat=pd.read_csv('Ising_data/'+'L'+str(L)+'/'+filename,names=['temperature','Cv'])\n",
    "    Tc=specific_heat['temperature'][np.argmax(specific_heat['Cv'])]\n",
    "    \n",
    "    # add phase column\n",
    "    train['FM']=[int(T<=Tc) for T in train['temperature']]\n",
    "    test['FM']=[int(T<=Tc) for T in test['temperature']]\n",
    "    train['PM']=[int(T>Tc) for T in train['temperature']]\n",
    "    test['PM']=[int(T>Tc) for T in test['temperature']]\n",
    "    \n",
    "    return train, test"
   ]
  },
  {
   "cell_type": "code",
   "execution_count": null,
   "metadata": {
    "collapsed": true
   },
   "outputs": [],
   "source": [
    "train, test=read_data(60)"
   ]
  },
  {
   "cell_type": "code",
   "execution_count": null,
   "metadata": {
    "collapsed": true
   },
   "outputs": [],
   "source": [
    "def data_process(train, test):\n",
    "    \"\"\"\n",
    "    :type train,test: pd.dataframe(with phases labeled)\n",
    "    :rtype trX, trY, teX, teY\n",
    "    \"\"\"\n",
    "    # shuffle\n",
    "    train=train.sample(frac=1).reset_index(drop=True)\n",
    "    \n",
    "    trX, trY = train.drop(['FM','PM','temperature'],axis=1), np.array(train[['FM','PM']])\n",
    "    teX, teY = test.drop(['FM','PM','temperature'],axis=1), np.array(test[['FM','PM']])\n",
    "    \n",
    "    return trX, trY, teX, teY"
   ]
  },
  {
   "cell_type": "code",
   "execution_count": null,
   "metadata": {
    "collapsed": true
   },
   "outputs": [],
   "source": [
    "trX, trY, teX, teY=data_process(train, test)"
   ]
  },
  {
   "cell_type": "code",
   "execution_count": null,
   "metadata": {
    "collapsed": true
   },
   "outputs": [],
   "source": [
    "def create_model(hidden_units=3, lamb=0.05,lr=0.001):\n",
    "    classifier=Sequential()\n",
    "    classifier.add(Dense(output_dim=hidden_units, init='uniform', kernel_regularizer=regularizers.l2(lamb), \\\n",
    "                     activation='sigmoid',input_dim=trX.shape[1]))\n",
    "    classifier.add(Dense(output_dim=1, init='uniform', kernel_regularizer=regularizers.l2(lamb), \\\n",
    "                     activation='sigmoid'))\n",
    "    sgd = SGD(lr=0.001, decay=1e-6)#, momentum=0.9, nesterov=True)\n",
    "    classifier.compile(optimizer='adam',loss='binary_crossentropy',metrics=['accuracy'])\n",
    "    return classifier"
   ]
  },
  {
   "cell_type": "code",
   "execution_count": null,
   "metadata": {
    "collapsed": false
   },
   "outputs": [],
   "source": [
    "classifier=create_model(hidden_units=100, lamb=0.0)"
   ]
  },
  {
   "cell_type": "code",
   "execution_count": null,
   "metadata": {
    "collapsed": false
   },
   "outputs": [],
   "source": [
    "classifier.fit(np.array(trX),np.argmax(trY,axis=1),batch_size=100, nb_epoch=2,verbose=1)"
   ]
  },
  {
   "cell_type": "code",
   "execution_count": null,
   "metadata": {
    "collapsed": true
   },
   "outputs": [],
   "source": [
    "y_pred=classifier.predict(np.array(teX))"
   ]
  },
  {
   "cell_type": "code",
   "execution_count": null,
   "metadata": {
    "collapsed": false
   },
   "outputs": [],
   "source": [
    "np.mean((y_pred>0.5)[:,0]==np.argmax(teY,axis=1))"
   ]
  },
  {
   "cell_type": "code",
   "execution_count": null,
   "metadata": {
    "collapsed": true
   },
   "outputs": [],
   "source": [
    "Temperatures=np.array(sorted(list(set(test['temperature']))))\n",
    "Pred_avgs=[]\n",
    "num_T=Temperatures.shape[0]\n",
    "num_test=len(test['temperature'])\n",
    "batch=num_test/num_T\n",
    "\n",
    "for i in xrange(num_T):\n",
    "    start=batch*i\n",
    "    end=start+batch\n",
    "    batch_prediction=y_pred[start:end]\n",
    "    Pred_avgs.append(np.mean(batch_prediction,axis=0))\n",
    "\n",
    "Pred_avgs=np.array(Pred_avgs)"
   ]
  },
  {
   "cell_type": "code",
   "execution_count": null,
   "metadata": {
    "collapsed": false
   },
   "outputs": [],
   "source": [
    "import matplotlib.pyplot as plt\n",
    "%matplotlib inline\n",
    "\n",
    "plt.plot(Temperatures, Pred_avgs[:,0], 'bo', Temperatures, Pred_avgs[:,0], 'b-', \\\n",
    "         Temperatures, 1-Pred_avgs[:,0], 'ro', Temperatures, 1-Pred_avgs[:,0], 'r-')"
   ]
  },
  {
   "cell_type": "code",
   "execution_count": null,
   "metadata": {
    "collapsed": true
   },
   "outputs": [],
   "source": []
  }
 ],
 "metadata": {
  "kernelspec": {
   "display_name": "Python 2",
   "language": "python",
   "name": "python2"
  },
  "language_info": {
   "codemirror_mode": {
    "name": "ipython",
    "version": 2
   },
   "file_extension": ".py",
   "mimetype": "text/x-python",
   "name": "python",
   "nbconvert_exporter": "python",
   "pygments_lexer": "ipython2",
   "version": "2.7.12"
  }
 },
 "nbformat": 4,
 "nbformat_minor": 2
}
