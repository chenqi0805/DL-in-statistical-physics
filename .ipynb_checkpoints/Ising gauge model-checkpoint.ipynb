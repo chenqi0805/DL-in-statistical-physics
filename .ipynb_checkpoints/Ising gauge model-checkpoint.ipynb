{
 "cells": [
  {
   "cell_type": "code",
   "execution_count": 1,
   "metadata": {
    "collapsed": true
   },
   "outputs": [],
   "source": [
    "import pandas as pd\n",
    "import numpy as np"
   ]
  },
  {
   "cell_type": "code",
   "execution_count": 2,
   "metadata": {
    "collapsed": true
   },
   "outputs": [],
   "source": [
    "def read_data(L):\n",
    "    \"\"\"\n",
    "    :type L: int(system size)\n",
    "    :rtype train,test: pd.dataframe(with phases labeled)\n",
    "    \"\"\"\n",
    "    train_filename='configuration'+str(L)+'.csv'\n",
    "    test_filename='test'+str(L)+'.csv'\n",
    "    columns=['temperature']+['Spin'+str(i) for i in xrange(1,2*L*L+1)]\n",
    "    train=pd.read_csv('Ising_gauge_data/'+'L'+str(L)+'/'+train_filename,names=columns)\n",
    "    test=pd.read_csv('Ising_gauge_data/'+'L'+str(L)+'/'+test_filename,names=columns)\n",
    "    \n",
    "    # Separate T=0 and T=inf\n",
    "    Tc=2.\n",
    "    \n",
    "    # add phase column (T=0: 1, T=inf: 0)\n",
    "    train['phase']=[int(T<=Tc) for T in train['temperature']]\n",
    "    test['phase']=[int(T<=Tc) for T in test['temperature']]\n",
    "    \n",
    "    return train , test"
   ]
  },
  {
   "cell_type": "code",
   "execution_count": 3,
   "metadata": {
    "collapsed": false
   },
   "outputs": [],
   "source": [
    "L=20\n",
    "train, test=read_data(L)"
   ]
  },
  {
   "cell_type": "code",
   "execution_count": 4,
   "metadata": {
    "collapsed": false
   },
   "outputs": [
    {
     "data": {
      "text/html": [
       "<div>\n",
       "<table border=\"1\" class=\"dataframe\">\n",
       "  <thead>\n",
       "    <tr style=\"text-align: right;\">\n",
       "      <th></th>\n",
       "      <th>temperature</th>\n",
       "      <th>Spin1</th>\n",
       "      <th>Spin2</th>\n",
       "      <th>Spin3</th>\n",
       "      <th>Spin4</th>\n",
       "      <th>Spin5</th>\n",
       "      <th>Spin6</th>\n",
       "      <th>Spin7</th>\n",
       "      <th>Spin8</th>\n",
       "      <th>Spin9</th>\n",
       "      <th>...</th>\n",
       "      <th>Spin504</th>\n",
       "      <th>Spin505</th>\n",
       "      <th>Spin506</th>\n",
       "      <th>Spin507</th>\n",
       "      <th>Spin508</th>\n",
       "      <th>Spin509</th>\n",
       "      <th>Spin510</th>\n",
       "      <th>Spin511</th>\n",
       "      <th>Spin512</th>\n",
       "      <th>phase</th>\n",
       "    </tr>\n",
       "  </thead>\n",
       "  <tbody>\n",
       "    <tr>\n",
       "      <th>0</th>\n",
       "      <td>0.001</td>\n",
       "      <td>1</td>\n",
       "      <td>-1</td>\n",
       "      <td>-1</td>\n",
       "      <td>1</td>\n",
       "      <td>-1</td>\n",
       "      <td>-1</td>\n",
       "      <td>1</td>\n",
       "      <td>1</td>\n",
       "      <td>-1</td>\n",
       "      <td>...</td>\n",
       "      <td>-1</td>\n",
       "      <td>-1</td>\n",
       "      <td>-1</td>\n",
       "      <td>-1</td>\n",
       "      <td>1</td>\n",
       "      <td>-1</td>\n",
       "      <td>-1</td>\n",
       "      <td>-1</td>\n",
       "      <td>1</td>\n",
       "      <td>1</td>\n",
       "    </tr>\n",
       "    <tr>\n",
       "      <th>1</th>\n",
       "      <td>0.001</td>\n",
       "      <td>1</td>\n",
       "      <td>-1</td>\n",
       "      <td>-1</td>\n",
       "      <td>1</td>\n",
       "      <td>-1</td>\n",
       "      <td>1</td>\n",
       "      <td>-1</td>\n",
       "      <td>-1</td>\n",
       "      <td>-1</td>\n",
       "      <td>...</td>\n",
       "      <td>1</td>\n",
       "      <td>1</td>\n",
       "      <td>-1</td>\n",
       "      <td>-1</td>\n",
       "      <td>1</td>\n",
       "      <td>-1</td>\n",
       "      <td>1</td>\n",
       "      <td>1</td>\n",
       "      <td>1</td>\n",
       "      <td>1</td>\n",
       "    </tr>\n",
       "    <tr>\n",
       "      <th>2</th>\n",
       "      <td>0.001</td>\n",
       "      <td>1</td>\n",
       "      <td>1</td>\n",
       "      <td>-1</td>\n",
       "      <td>-1</td>\n",
       "      <td>-1</td>\n",
       "      <td>1</td>\n",
       "      <td>1</td>\n",
       "      <td>-1</td>\n",
       "      <td>1</td>\n",
       "      <td>...</td>\n",
       "      <td>-1</td>\n",
       "      <td>-1</td>\n",
       "      <td>1</td>\n",
       "      <td>-1</td>\n",
       "      <td>1</td>\n",
       "      <td>1</td>\n",
       "      <td>-1</td>\n",
       "      <td>1</td>\n",
       "      <td>-1</td>\n",
       "      <td>1</td>\n",
       "    </tr>\n",
       "    <tr>\n",
       "      <th>3</th>\n",
       "      <td>0.001</td>\n",
       "      <td>1</td>\n",
       "      <td>1</td>\n",
       "      <td>1</td>\n",
       "      <td>-1</td>\n",
       "      <td>1</td>\n",
       "      <td>-1</td>\n",
       "      <td>1</td>\n",
       "      <td>-1</td>\n",
       "      <td>1</td>\n",
       "      <td>...</td>\n",
       "      <td>-1</td>\n",
       "      <td>1</td>\n",
       "      <td>1</td>\n",
       "      <td>-1</td>\n",
       "      <td>-1</td>\n",
       "      <td>-1</td>\n",
       "      <td>-1</td>\n",
       "      <td>1</td>\n",
       "      <td>1</td>\n",
       "      <td>1</td>\n",
       "    </tr>\n",
       "    <tr>\n",
       "      <th>4</th>\n",
       "      <td>0.001</td>\n",
       "      <td>1</td>\n",
       "      <td>-1</td>\n",
       "      <td>-1</td>\n",
       "      <td>-1</td>\n",
       "      <td>1</td>\n",
       "      <td>1</td>\n",
       "      <td>1</td>\n",
       "      <td>1</td>\n",
       "      <td>-1</td>\n",
       "      <td>...</td>\n",
       "      <td>1</td>\n",
       "      <td>-1</td>\n",
       "      <td>1</td>\n",
       "      <td>-1</td>\n",
       "      <td>-1</td>\n",
       "      <td>1</td>\n",
       "      <td>1</td>\n",
       "      <td>-1</td>\n",
       "      <td>-1</td>\n",
       "      <td>1</td>\n",
       "    </tr>\n",
       "  </tbody>\n",
       "</table>\n",
       "<p>5 rows × 514 columns</p>\n",
       "</div>"
      ],
      "text/plain": [
       "   temperature  Spin1  Spin2  Spin3  Spin4  Spin5  Spin6  Spin7  Spin8  Spin9  \\\n",
       "0        0.001      1     -1     -1      1     -1     -1      1      1     -1   \n",
       "1        0.001      1     -1     -1      1     -1      1     -1     -1     -1   \n",
       "2        0.001      1      1     -1     -1     -1      1      1     -1      1   \n",
       "3        0.001      1      1      1     -1      1     -1      1     -1      1   \n",
       "4        0.001      1     -1     -1     -1      1      1      1      1     -1   \n",
       "\n",
       "   ...    Spin504  Spin505  Spin506  Spin507  Spin508  Spin509  Spin510  \\\n",
       "0  ...         -1       -1       -1       -1        1       -1       -1   \n",
       "1  ...          1        1       -1       -1        1       -1        1   \n",
       "2  ...         -1       -1        1       -1        1        1       -1   \n",
       "3  ...         -1        1        1       -1       -1       -1       -1   \n",
       "4  ...          1       -1        1       -1       -1        1        1   \n",
       "\n",
       "   Spin511  Spin512  phase  \n",
       "0       -1        1      1  \n",
       "1        1        1      1  \n",
       "2        1       -1      1  \n",
       "3        1        1      1  \n",
       "4       -1       -1      1  \n",
       "\n",
       "[5 rows x 514 columns]"
      ]
     },
     "execution_count": 4,
     "metadata": {},
     "output_type": "execute_result"
    }
   ],
   "source": [
    "train.head()"
   ]
  },
  {
   "cell_type": "code",
   "execution_count": 5,
   "metadata": {
    "collapsed": true
   },
   "outputs": [],
   "source": [
    "def data_process(train, shuffle=True):\n",
    "    \"\"\"\n",
    "    :type train,test: pd.dataframe(with phases labeled)\n",
    "    :rtype trX, trY, teX, teY\n",
    "    \"\"\"\n",
    "    # shuffle\n",
    "    if shuffle:\n",
    "        train=train.sample(frac=1).reset_index(drop=True)\n",
    "    \n",
    "    # separate A, B sublattices\n",
    "    trainA=train[['Spin'+str(i) for i in xrange(1,L*L+1)]].as_matrix()\n",
    "    trainB=train[['Spin'+str(i) for i in xrange(L*L+1,2*L*L+1)]].as_matrix()\n",
    "    trX=np.zeros((trainA.shape[0], L, L, 2))\n",
    "    trX[:,:,:,0]=np.reshape(trainA,(trainA.shape[0], L, L))\n",
    "    trX[:,:,:,1]=np.reshape(trainB,(trainB.shape[0], L, L))\n",
    "    \n",
    "    trY = train['phase']\n",
    "    \n",
    "    return trX, trY"
   ]
  },
  {
   "cell_type": "code",
   "execution_count": 6,
   "metadata": {
    "collapsed": true
   },
   "outputs": [],
   "source": [
    "trX, trY=data_process(train)\n",
    "teX, teY=data_process(test)"
   ]
  },
  {
   "cell_type": "markdown",
   "metadata": {},
   "source": [
    "**check plaquette**"
   ]
  },
  {
   "cell_type": "code",
   "execution_count": 7,
   "metadata": {
    "collapsed": false
   },
   "outputs": [],
   "source": [
    "def plaquette(links):\n",
    "    plaquette = np.zeros((links.shape[0], L, L))\n",
    "                \n",
    "    for i in xrange(L):\n",
    "        for j in xrange(L):\n",
    "            plaquette[:, i, j]=links[:, i, j, 0]*links[:, i, j, 1]\\\n",
    "            *links[:, (i+1)%L, j, 1]*links[:, i, (j+1)%L, 0]\n",
    "                \n",
    "    return plaquette"
   ]
  },
  {
   "cell_type": "code",
   "execution_count": 8,
   "metadata": {
    "collapsed": false
   },
   "outputs": [
    {
     "data": {
      "text/plain": [
       "array([[[ 1.,  1.,  1., ...,  1.,  1.,  1.],\n",
       "        [ 1.,  1.,  1., ...,  1.,  1.,  1.],\n",
       "        [ 1.,  1.,  1., ...,  1.,  1.,  1.],\n",
       "        ..., \n",
       "        [ 1.,  1.,  1., ...,  1.,  1.,  1.],\n",
       "        [ 1.,  1.,  1., ...,  1.,  1.,  1.],\n",
       "        [ 1.,  1.,  1., ...,  1.,  1.,  1.]],\n",
       "\n",
       "       [[ 1., -1.,  1., ...,  1.,  1., -1.],\n",
       "        [ 1., -1.,  1., ...,  1., -1., -1.],\n",
       "        [ 1., -1., -1., ..., -1., -1., -1.],\n",
       "        ..., \n",
       "        [ 1.,  1.,  1., ..., -1., -1.,  1.],\n",
       "        [-1., -1.,  1., ...,  1.,  1., -1.],\n",
       "        [ 1.,  1.,  1., ...,  1.,  1., -1.]],\n",
       "\n",
       "       [[-1., -1.,  1., ...,  1., -1.,  1.],\n",
       "        [-1.,  1.,  1., ...,  1., -1., -1.],\n",
       "        [ 1., -1., -1., ..., -1.,  1.,  1.],\n",
       "        ..., \n",
       "        [-1.,  1.,  1., ...,  1., -1.,  1.],\n",
       "        [ 1., -1.,  1., ...,  1.,  1., -1.],\n",
       "        [ 1.,  1., -1., ..., -1.,  1.,  1.]],\n",
       "\n",
       "       ..., \n",
       "       [[ 1.,  1.,  1., ...,  1.,  1.,  1.],\n",
       "        [ 1.,  1.,  1., ...,  1.,  1.,  1.],\n",
       "        [ 1.,  1.,  1., ...,  1.,  1.,  1.],\n",
       "        ..., \n",
       "        [ 1.,  1.,  1., ...,  1.,  1.,  1.],\n",
       "        [ 1.,  1.,  1., ...,  1.,  1.,  1.],\n",
       "        [ 1.,  1.,  1., ...,  1.,  1.,  1.]],\n",
       "\n",
       "       [[ 1.,  1.,  1., ...,  1.,  1.,  1.],\n",
       "        [ 1.,  1.,  1., ...,  1.,  1.,  1.],\n",
       "        [ 1.,  1.,  1., ...,  1.,  1.,  1.],\n",
       "        ..., \n",
       "        [ 1.,  1.,  1., ...,  1.,  1.,  1.],\n",
       "        [ 1.,  1.,  1., ...,  1.,  1.,  1.],\n",
       "        [ 1.,  1.,  1., ...,  1.,  1.,  1.]],\n",
       "\n",
       "       [[ 1.,  1., -1., ...,  1., -1., -1.],\n",
       "        [ 1.,  1.,  1., ...,  1., -1.,  1.],\n",
       "        [ 1., -1.,  1., ...,  1.,  1.,  1.],\n",
       "        ..., \n",
       "        [ 1., -1., -1., ...,  1., -1.,  1.],\n",
       "        [ 1.,  1.,  1., ...,  1.,  1.,  1.],\n",
       "        [ 1.,  1.,  1., ..., -1., -1., -1.]]])"
      ]
     },
     "execution_count": 8,
     "metadata": {},
     "output_type": "execute_result"
    }
   ],
   "source": [
    "plaq=plaquette(trX)\n",
    "plaq"
   ]
  },
  {
   "cell_type": "code",
   "execution_count": 9,
   "metadata": {
    "collapsed": false
   },
   "outputs": [
    {
     "name": "stderr",
     "output_type": "stream",
     "text": [
      "Using TensorFlow backend.\n"
     ]
    }
   ],
   "source": [
    "# Importing the Keras libraries and packages\n",
    "from keras.models import Sequential\n",
    "from keras.layers import Conv2D\n",
    "from keras.layers import MaxPooling2D\n",
    "from keras.layers import Flatten\n",
    "from keras.layers import Dense\n",
    "from keras.layers import Dropout\n",
    "from keras.optimizers import Adam"
   ]
  },
  {
   "cell_type": "code",
   "execution_count": 10,
   "metadata": {
    "collapsed": false
   },
   "outputs": [
    {
     "name": "stderr",
     "output_type": "stream",
     "text": [
      "/Users/chenyinglong/anaconda/lib/python2.7/site-packages/ipykernel/__main__.py:16: UserWarning: Update your `Dropout` call to the Keras 2 API: `Dropout(rate=0.1)`\n"
     ]
    }
   ],
   "source": [
    "# Initialising the CNN\n",
    "classifier = Sequential()\n",
    "\n",
    "# Step 1 - Convolution\n",
    "classifier.add(Conv2D(64, (2, 2), input_shape = (L, L, 2), activation = 'relu'))\n",
    "\n",
    "# Step 2 - Pooling\n",
    "classifier.add(MaxPooling2D(pool_size = (2, 2)))\n",
    "\n",
    "# Step 3 - Flattening\n",
    "classifier.add(Flatten())\n",
    "\n",
    "# Step 4 - Full connection\n",
    "classifier.add(Dense(units = 64, activation = 'relu'))\n",
    "# drop out\n",
    "classifier.add(Dropout(p = 0.1))\n",
    "\n",
    "classifier.add(Dense(units = 1, activation = 'sigmoid'))\n",
    "\n",
    "# Compiling the CNN\n",
    "adam=Adam(lr=0.0001)\n",
    "classifier.compile(optimizer = adam, loss = 'binary_crossentropy', metrics = ['accuracy'])"
   ]
  },
  {
   "cell_type": "code",
   "execution_count": 11,
   "metadata": {
    "collapsed": false
   },
   "outputs": [
    {
     "name": "stderr",
     "output_type": "stream",
     "text": [
      "/Users/chenyinglong/anaconda/lib/python2.7/site-packages/keras/models.py:834: UserWarning: The `nb_epoch` argument in `fit` has been renamed `epochs`.\n",
      "  warnings.warn('The `nb_epoch` argument in `fit` '\n"
     ]
    },
    {
     "data": {
      "text/plain": [
       "<keras.callbacks.History at 0x12540a450>"
      ]
     },
     "execution_count": 11,
     "metadata": {},
     "output_type": "execute_result"
    }
   ],
   "source": [
    "classifier.fit(trX,trY,batch_size=100, nb_epoch=25, verbose=0)"
   ]
  },
  {
   "cell_type": "code",
   "execution_count": 12,
   "metadata": {
    "collapsed": true
   },
   "outputs": [],
   "source": [
    "try_pred=classifier.predict(trX)\n",
    "tey_pred=classifier.predict(teX)"
   ]
  },
  {
   "cell_type": "code",
   "execution_count": 13,
   "metadata": {
    "collapsed": false
   },
   "outputs": [
    {
     "data": {
      "text/plain": [
       "1.0"
      ]
     },
     "execution_count": 13,
     "metadata": {},
     "output_type": "execute_result"
    }
   ],
   "source": [
    "np.mean((try_pred>0.5)[:,0]==trY)"
   ]
  },
  {
   "cell_type": "code",
   "execution_count": 14,
   "metadata": {
    "collapsed": false
   },
   "outputs": [
    {
     "data": {
      "text/plain": [
       "(10000, 1)"
      ]
     },
     "execution_count": 14,
     "metadata": {},
     "output_type": "execute_result"
    }
   ],
   "source": [
    "tey_pred.shape"
   ]
  },
  {
   "cell_type": "code",
   "execution_count": 15,
   "metadata": {
    "collapsed": false
   },
   "outputs": [
    {
     "data": {
      "text/plain": [
       "1.0"
      ]
     },
     "execution_count": 15,
     "metadata": {},
     "output_type": "execute_result"
    }
   ],
   "source": [
    "np.mean((tey_pred>0.5)[:,0]==teY)"
   ]
  },
  {
   "cell_type": "markdown",
   "metadata": {},
   "source": [
    "**predict cross-over temperature on finite temperature data**:"
   ]
  },
  {
   "cell_type": "code",
   "execution_count": 16,
   "metadata": {
    "collapsed": true
   },
   "outputs": [],
   "source": [
    "def read_finite(L):\n",
    "    filename='test_finiteT'+str(L)+'.csv'\n",
    "    columns=['beta']+['Spin'+str(i) for i in xrange(1,2*L*L+1)]\n",
    "    data=pd.read_csv('Ising_gauge_data/'+'L'+str(L)+'/'+filename,names=columns)\n",
    "    \n",
    "    return data"
   ]
  },
  {
   "cell_type": "code",
   "execution_count": 17,
   "metadata": {
    "collapsed": true
   },
   "outputs": [],
   "source": [
    "def data_process_finite(test):\n",
    "    \"\"\"\n",
    "    :type train,test: pd.dataframe(with phases labeled)\n",
    "    :rtype trX, trY, teX, teY\n",
    "    \"\"\"\n",
    "    # separate A, B sublattices\n",
    "    testA=test[['Spin'+str(i) for i in xrange(1,L*L+1)]].as_matrix()\n",
    "    testB=test[['Spin'+str(i) for i in xrange(L*L+1,2*L*L+1)]].as_matrix()\n",
    "    teX=np.zeros((testA.shape[0], L, L, 2))\n",
    "    teX[:,:,:,0]=np.reshape(testA,(testA.shape[0], L, L))\n",
    "    teX[:,:,:,1]=np.reshape(testB,(testB.shape[0], L, L))\n",
    "    \n",
    "    return teX"
   ]
  },
  {
   "cell_type": "code",
   "execution_count": 18,
   "metadata": {
    "collapsed": false
   },
   "outputs": [],
   "source": [
    "test_finite=read_finite(L)\n",
    "teX=data_process_finite(test_finite)"
   ]
  },
  {
   "cell_type": "code",
   "execution_count": 19,
   "metadata": {
    "collapsed": true
   },
   "outputs": [],
   "source": [
    "y_pred=classifier.predict(teX)"
   ]
  },
  {
   "cell_type": "code",
   "execution_count": 32,
   "metadata": {
    "collapsed": false
   },
   "outputs": [],
   "source": [
    "y_pred=(y_pred>0.5)"
   ]
  },
  {
   "cell_type": "code",
   "execution_count": 35,
   "metadata": {
    "collapsed": false
   },
   "outputs": [],
   "source": [
    "Betas=np.array(sorted(list(set(test_finite['beta']))))\n",
    "Pred_avgs=[]\n",
    "num_T=Betas.shape[0]\n",
    "num_test=len(test_finite['beta'])\n",
    "batch=num_test/num_T\n",
    "\n",
    "for i in xrange(num_T):\n",
    "    start=batch*i\n",
    "    end=start+batch\n",
    "    batch_prediction=y_pred[start:end]\n",
    "    Pred_avgs.append(np.mean(batch_prediction,axis=0))\n",
    "\n",
    "Pred_avgs=np.array(Pred_avgs)"
   ]
  },
  {
   "cell_type": "code",
   "execution_count": 36,
   "metadata": {
    "collapsed": false
   },
   "outputs": [
    {
     "data": {
      "text/plain": [
       "[<matplotlib.lines.Line2D at 0x114926550>,\n",
       " <matplotlib.lines.Line2D at 0x114926650>,\n",
       " <matplotlib.lines.Line2D at 0x114926dd0>,\n",
       " <matplotlib.lines.Line2D at 0x1149323d0>]"
      ]
     },
     "execution_count": 36,
     "metadata": {},
     "output_type": "execute_result"
    },
    {
     "data": {
      "image/png": "[encoded data removed]",
      "text/plain": [
       "<matplotlib.figure.Figure at 0x12559fc50>"
      ]
     },
     "metadata": {},
     "output_type": "display_data"
    }
   ],
   "source": [
    "import matplotlib.pyplot as plt\n",
    "%matplotlib inline\n",
    "\n",
    "plt.plot(Betas, Pred_avgs[:,0], 'bo', Betas, Pred_avgs[:,0], 'b-', \\\n",
    "         Betas, 1-Pred_avgs[:,0], 'ro', Betas, 1-Pred_avgs[:,0], 'r-')"
   ]
  },
  {
   "cell_type": "code",
   "execution_count": 22,
   "metadata": {
    "collapsed": false
   },
   "outputs": [
    {
     "data": {
      "text/plain": [
       "(102500, 16, 16, 2)"
      ]
     },
     "execution_count": 22,
     "metadata": {},
     "output_type": "execute_result"
    }
   ],
   "source": [
    "teX.shape"
   ]
  },
  {
   "cell_type": "code",
   "execution_count": 23,
   "metadata": {
    "collapsed": false
   },
   "outputs": [
    {
     "data": {
      "text/plain": [
       "2500"
      ]
     },
     "execution_count": 23,
     "metadata": {},
     "output_type": "execute_result"
    }
   ],
   "source": [
    "batch"
   ]
  },
  {
   "cell_type": "code",
   "execution_count": null,
   "metadata": {
    "collapsed": true
   },
   "outputs": [],
   "source": []
  }
 ],
 "metadata": {
  "kernelspec": {
   "display_name": "Python 2",
   "language": "python",
   "name": "python2"
  },
  "language_info": {
   "codemirror_mode": {
    "name": "ipython",
    "version": 2
   },
   "file_extension": ".py",
   "mimetype": "text/x-python",
   "name": "python",
   "nbconvert_exporter": "python",
   "pygments_lexer": "ipython2",
   "version": "2.7.12"
  }
 },
 "nbformat": 4,
 "nbformat_minor": 2
}
