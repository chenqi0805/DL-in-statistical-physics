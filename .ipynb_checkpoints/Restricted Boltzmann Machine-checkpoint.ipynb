{
 "cells": [
  {
   "cell_type": "code",
   "execution_count": 1,
   "metadata": {
    "collapsed": true
   },
   "outputs": [],
   "source": [
    "# Boltzmann Machines\n",
    "\n",
    "# Importing the libraries\n",
    "import numpy as np\n",
    "import pandas as pd\n",
    "import torch\n",
    "import torch.nn as nn\n",
    "import torch.nn.parallel\n",
    "import torch.optim as optim\n",
    "import torch.utils.data\n",
    "from torch.autograd import Variable"
   ]
  },
  {
   "cell_type": "code",
   "execution_count": 2,
   "metadata": {
    "collapsed": true
   },
   "outputs": [],
   "source": [
    "def read_data(L):\n",
    "    \"\"\"\n",
    "    :type L: int(system size)\n",
    "    :rtype train,test: pd.dataframe(with phases labeled)\n",
    "    \"\"\"\n",
    "    train_filename='configuration'+str(L)+'.csv'\n",
    "    test_filename='test'+str(L)+'.csv'\n",
    "    columns=['temperature']+['Spin'+str(i) for i in xrange(1,L*L+1)]\n",
    "    train=pd.read_csv('Ising_data/'+'L'+str(L)+'/'+train_filename,names=columns)\n",
    "    test=pd.read_csv('Ising_data/'+'L'+str(L)+'/'+test_filename,names=columns)\n",
    "    \n",
    "    # decide critical temperature\n",
    "    filename='Cv'+str(L)+'.csv'\n",
    "    specific_heat=pd.read_csv('Ising_data/'+'L'+str(L)+'/'+filename,names=['temperature','Cv'])\n",
    "    Tc=specific_heat['temperature'][np.argmax(specific_heat['Cv'])]\n",
    "    \n",
    "    # add phase column\n",
    "    train['FM']=[int(T<=Tc) for T in train['temperature']]\n",
    "    test['FM']=[int(T<=Tc) for T in test['temperature']]\n",
    "    train['PM']=[int(T>Tc) for T in train['temperature']]\n",
    "    test['PM']=[int(T>Tc) for T in test['temperature']]\n",
    "    \n",
    "    return train, test"
   ]
  },
  {
   "cell_type": "code",
   "execution_count": 3,
   "metadata": {
    "collapsed": true
   },
   "outputs": [],
   "source": [
    "train, test=read_data(40)"
   ]
  },
  {
   "cell_type": "code",
   "execution_count": 4,
   "metadata": {
    "collapsed": true
   },
   "outputs": [],
   "source": [
    "def data_process(train, test):\n",
    "    \"\"\"\n",
    "    :type train,test: pd.dataframe(with phases labeled)\n",
    "    :rtype trX, trY, teX, teY\n",
    "    \"\"\"\n",
    "    # shuffle\n",
    "    train=train.sample(frac=1).reset_index(drop=True)\n",
    "    \n",
    "    trX, trY = train.drop(['FM','PM','temperature'],axis=1), np.array(train[['FM','PM']])\n",
    "    teX, teY = test.drop(['FM','PM','temperature'],axis=1), np.array(test[['FM','PM']])\n",
    "    \n",
    "    return trX.as_matrix().tolist(), trY.tolist(), teX.as_matrix().tolist(), teY.tolist()"
   ]
  },
  {
   "cell_type": "code",
   "execution_count": 5,
   "metadata": {
    "collapsed": true
   },
   "outputs": [],
   "source": [
    "trX, _, teX, _=data_process(train, test)"
   ]
  },
  {
   "cell_type": "code",
   "execution_count": 6,
   "metadata": {
    "collapsed": true
   },
   "outputs": [],
   "source": [
    "trX = torch.FloatTensor(trX)\n",
    "teX = torch.FloatTensor(teX)"
   ]
  },
  {
   "cell_type": "markdown",
   "metadata": {},
   "source": [
    "**Creating the architecture of the Neural Network**:"
   ]
  },
  {
   "cell_type": "code",
   "execution_count": 7,
   "metadata": {
    "collapsed": true
   },
   "outputs": [],
   "source": [
    "class RBM():\n",
    "    # self.W(torch tensor (nh, nv)): weights\n",
    "    # self.a(torch tensor (1, nh)): hidden bias\n",
    "    # self.b(torch tensor (1, nv)): input bias\n",
    "    def __init__(self, nv, nh):\n",
    "        \"\"\"\n",
    "        nv(int): number of visible nodes\n",
    "        nh(int): number of hidden nodes\n",
    "        \"\"\"\n",
    "        self.W = torch.randn(nh, nv) # initialize weights\n",
    "        self.a = torch.randn(1, nh) # initialize hidden bias\n",
    "        self.b = torch.randn(1, nv) # initialize input bias\n",
    "    \n",
    "    # probability: p(h|v) = sigmoid(W*x + a) used for Gibbs sampler\n",
    "    def sample_h(self, x):\n",
    "        \"\"\"\n",
    "        x(int): visible neurons\n",
    "        return variables:\n",
    "        p_h_given_v(float): probability of hidden nodes given visible nodes\n",
    "        torch.bernoulli(p_h_given_v): whether a hidden node is activated or not\n",
    "        \"\"\"\n",
    "        wx = torch.mm(x, self.W.t())\n",
    "        activation = wx + self.a.expand_as(wx) # make sure bias is applied to each line of the mini-batch\n",
    "        p_h_given_v = torch.sigmoid(activation)\n",
    "        return p_h_given_v, torch.bernoulli(p_h_given_v)\n",
    "    # probability: p(v|h) = sigmoid(W*y + a) used for Gibbs sampler\n",
    "    def sample_v(self, y):\n",
    "        \"\"\"\n",
    "        y(int): hidden neurons\n",
    "        return variables:\n",
    "        p_h_given_v(float): probability of hidden nodes given visible nodes\n",
    "        torch.bernoulli(p_h_given_v): whether a hidden node is activated or not\n",
    "        \"\"\"\n",
    "        wy = torch.mm(y, self.W)\n",
    "        activation = wy + self.b.expand_as(wy) # make sure bias is applied to each line of the mini-batch\n",
    "        p_v_given_h = torch.sigmoid(activation)\n",
    "        return p_v_given_h, torch.bernoulli(p_v_given_h)\n",
    "    def train(self, v0, vk, ph0, phk):\n",
    "        self.W += torch.mm(v0.t(), ph0)-torch.mm(vk.t(), phk)\n",
    "        self.b += torch.sum((v0 - vk),0)\n",
    "        self.a += torch.sum((ph0 - phk),0)"
   ]
  },
  {
   "cell_type": "code",
   "execution_count": 9,
   "metadata": {
    "collapsed": false
   },
   "outputs": [],
   "source": [
    "nv = len(trX[0])\n",
    "nh = 100\n",
    "batch_size = 100\n",
    "rbm = RBM(nv, nh)"
   ]
  },
  {
   "cell_type": "markdown",
   "metadata": {},
   "source": [
    "**Training the RBM**"
   ]
  },
  {
   "cell_type": "code",
   "execution_count": null,
   "metadata": {
    "collapsed": true
   },
   "outputs": [],
   "source": [
    "nb_epoch = 10\n",
    "for epoch in range(1, nb_epoch + 1):\n",
    "    train_loss = 0\n",
    "    s = 0."
   ]
  }
 ],
 "metadata": {
  "kernelspec": {
   "display_name": "Python 2",
   "language": "python",
   "name": "python2"
  },
  "language_info": {
   "codemirror_mode": {
    "name": "ipython",
    "version": 2
   },
   "file_extension": ".py",
   "mimetype": "text/x-python",
   "name": "python",
   "nbconvert_exporter": "python",
   "pygments_lexer": "ipython2",
   "version": "2.7.12"
  }
 },
 "nbformat": 4,
 "nbformat_minor": 2
}
